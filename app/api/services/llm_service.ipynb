{
  "cells": [
    {
      "cell_type": "code",
      "execution_count": null,
      "metadata": {
        "colab": {
          "base_uri": "https://localhost:8080/"
        },
        "id": "sEvKqTFh1uDt",
        "outputId": "49d1f69d-3312-4c53-eefb-95953cebe0e2"
      },
      "outputs": [],
      "source": [
        "%pip install -q langchain langchain-groq pydantic faiss-cpu typing langchain_community langchain-huggingface"
      ]
    },
    {
      "cell_type": "code",
      "execution_count": 1,
      "metadata": {},
      "outputs": [],
      "source": [
        "import os"
      ]
    },
    {
      "cell_type": "code",
      "execution_count": 4,
      "metadata": {
        "id": "GeS5up3J34vr"
      },
      "outputs": [],
      "source": [
        "import os\n",
        "import json\n",
        "import csv\n",
        "import pandas as pd\n",
        "from typing import Dict, List, Optional\n",
        "from langchain_groq.chat_models import ChatGroq\n",
        "from langchain.prompts import PromptTemplate\n",
        "from langchain.chains import LLMChain, RetrievalQA, ConversationalRetrievalChain\n",
        "from langchain.memory import ConversationBufferMemory\n",
        "from sentence_transformers import SentenceTransformer\n",
        "from langchain.schema import Document\n",
        "from langchain.vectorstores import FAISS\n",
        "from langchain_huggingface import HuggingFaceEmbeddings\n",
        "from langchain.output_parsers import PydanticOutputParser\n",
        "from langchain_community.document_loaders import csv_loader\n",
        "from pydantic import BaseModel, Field\n",
        "import logging"
      ]
    },
    {
      "cell_type": "code",
      "execution_count": 3,
      "metadata": {
        "id": "OCNRKntu3Mp5"
      },
      "outputs": [],
      "source": [
        "GROQ_API_KEY = os.getenv('GROQ_API_KEY')"
      ]
    },
    {
      "cell_type": "code",
      "execution_count": 7,
      "metadata": {
        "id": "TkKiVnjd-5w3"
      },
      "outputs": [],
      "source": [
        "path = r\"/content/drive/MyDrive/__SHL__/shl_catalog_edited.csv\"\n",
        "data = pd.read_csv(path)"
      ]
    },
    {
      "cell_type": "code",
      "execution_count": null,
      "metadata": {
        "colab": {
          "base_uri": "https://localhost:8080/",
          "height": 625
        },
        "id": "eZ4Xc8sF_h1O",
        "outputId": "28401990-547c-448d-9298-bb6b241c98dc"
      },
      "outputs": [],
      "source": [
        "data.head()"
      ]
    },
    {
      "cell_type": "code",
      "execution_count": 10,
      "metadata": {
        "id": "S4Qo4dJHa_SN"
      },
      "outputs": [],
      "source": [
        "data=data.drop(\"Unnamed: 0\",axis = 1)"
      ]
    },
    {
      "cell_type": "code",
      "execution_count": 11,
      "metadata": {
        "colab": {
          "base_uri": "https://localhost:8080/"
        },
        "id": "9ipqzy6RTwUp",
        "outputId": "adf6b88f-c180-40b4-8b9c-c7a2a64757c7"
      },
      "outputs": [
        {
          "data": {
            "text/plain": [
              "Index(['Assessment Name', 'Assessment URL', 'Remote Testing Support',\n",
              "       'Adaptive/IRT Support', 'Duration', 'Ability&Aptitude',\n",
              "       'Biodata&SituationalJudgement', 'Competencies', 'Developemnt&360',\n",
              "       'AssessmentExercies', 'Knowledge&Skills', 'Personality&Behavior',\n",
              "       'Simulation', 'Description'],\n",
              "      dtype='object')"
            ]
          },
          "execution_count": 11,
          "metadata": {},
          "output_type": "execute_result"
        }
      ],
      "source": [
        "data.columns"
      ]
    },
    {
      "cell_type": "markdown",
      "metadata": {
        "id": "Lv8cRmNTTv9K"
      },
      "source": [
        "## **LangChain Model with Message History**\n",
        "\n",
        "\n",
        "\n",
        "\n",
        "\n"
      ]
    },
    {
      "cell_type": "code",
      "execution_count": 12,
      "metadata": {
        "id": "I59LAD-fhS31"
      },
      "outputs": [],
      "source": [
        "\n",
        "def get_test_type(row):\n",
        "  test_types = []\n",
        "  cols = ['Ability&Aptitude',\n",
        "       'Biodata&SituationalJudgement', 'Competencies', 'Developemnt&360',\n",
        "       'AssessmentExercies', 'Knowledge&Skills', 'Personality&Behavior',\n",
        "       'Simulation']\n",
        "  for col in cols:\n",
        "    if row[col ] == 1:\n",
        "      test_types.append(col)\n",
        "  return \",\".join(test_types)\n",
        "\n",
        "def create_document(row):\n",
        "  metadata = {\n",
        "        \"name\": row[\"Assessment Name\"],\n",
        "        \"url\": row[\"Assessment URL\"],\n",
        "        \"remote_support\": row[\"Remote Testing Support\"],\n",
        "        \"adaptive_support\": row[\"Adaptive/IRT Support\"],\n",
        "        \"duration\": row[\"Duration\"],\n",
        "        \"test_type\": get_test_type(row)\n",
        "    }\n",
        "\n",
        "  return Document(page_content = row['Description'], metadata=metadata)\n",
        "\n",
        "docs = [create_document(row) for _, row in data.iterrows()]"
      ]
    },
    {
      "cell_type": "code",
      "execution_count": null,
      "metadata": {
        "colab": {
          "base_uri": "https://localhost:8080/"
        },
        "collapsed": true,
        "id": "k3fA7pHmhTFm",
        "outputId": "cd6a5d53-7aa1-4942-a68d-5782eee3226c"
      },
      "outputs": [],
      "source": [
        "import pprint\n",
        "pprint.pprint(docs)"
      ]
    },
    {
      "cell_type": "code",
      "execution_count": null,
      "metadata": {
        "id": "S5j6CPO_bb09"
      },
      "outputs": [],
      "source": [
        "embedding_model = HuggingFaceEmbeddings(model_name = \"all-MiniLM-L6-v2\")\n",
        "vectorstore = FAISS.from_documents(docs, embedding_model)"
      ]
    },
    {
      "cell_type": "code",
      "execution_count": 38,
      "metadata": {
        "colab": {
          "base_uri": "https://localhost:8080/"
        },
        "id": "7g1wZmSbbbyc",
        "outputId": "f742e82d-5e39-469a-9a17-3724a04aff31"
      },
      "outputs": [
        {
          "data": {
            "text/plain": [
              "ChatGroq(client=<groq.resources.chat.completions.Completions object at 0x7ca8d4046e90>, async_client=<groq.resources.chat.completions.AsyncCompletions object at 0x7ca8cff38110>, model_name='llama-3.3-70b-versatile', model_kwargs={}, groq_api_key=SecretStr('**********'))"
            ]
          },
          "execution_count": 38,
          "metadata": {},
          "output_type": "execute_result"
        }
      ],
      "source": [
        "memory = ConversationBufferMemory(memory_key=\"chat_history\", output_key=\"answer\", return_messages=True)\n",
        "llm = ChatGroq(model=\"llama-3.3-70b-versatile\",\n",
        "               api_key = GROQ_API_KEY)\n",
        "llm"
      ]
    },
    {
      "cell_type": "code",
      "execution_count": 39,
      "metadata": {
        "id": "-w09m40-bbv7"
      },
      "outputs": [],
      "source": [
        "QA_chain = ConversationalRetrievalChain.from_llm(\n",
        "    llm = llm,\n",
        "    retriever=vectorstore.as_retriever(search_kwargs={\"k\": 10}),\n",
        "    memory=memory,\n",
        "    return_source_documents=True,\n",
        "    verbose = True\n",
        ")"
      ]
    },
    {
      "cell_type": "code",
      "execution_count": 31,
      "metadata": {
        "id": "qCtrYabiiZpp"
      },
      "outputs": [],
      "source": [
        "def format_response(response_docs):\n",
        "    \"\"\"Format the documents into a structured output.\"\"\"\n",
        "    results = []\n",
        "    for doc in response_docs:\n",
        "        meta = doc.metadata\n",
        "        results.append({\n",
        "            \"Assessment Name\": meta.get(\"name\"),\n",
        "            \"URL\": meta.get(\"url\"),\n",
        "            \"Remote Support\": meta.get(\"remote_support\"),\n",
        "            \"Adaptive Support\": meta.get(\"adaptive_support\"),\n",
        "            \"Duration\": meta.get(\"duration\"),\n",
        "            \"Test Type\": meta.get(\"test_type\")\n",
        "        })\n",
        "    return results"
      ]
    },
    {
      "cell_type": "code",
      "execution_count": null,
      "metadata": {
        "id": "wmT9WVltif0y"
      },
      "outputs": [],
      "source": [
        "def ask_question(query: str, history=[]):\n",
        "    response = QA_chain.invoke({\"question\": query})\n",
        "    docs = response.get(\"source_documents\", [])\n",
        "    formatted_results = format_response(docs)\n",
        "    formatted_results = formatted_results[:10]\n",
        "\n",
        "    return {\n",
        "        \"answer\": response[\"answer\"],\n",
        "        \"recommendations\": formatted_results\n",
        "    }"
      ]
    },
    {
      "cell_type": "code",
      "execution_count": null,
      "metadata": {
        "id": "Nr88-EQWihGV"
      },
      "outputs": [],
      "source": [
        "def display_results(results):\n",
        "    if not results:\n",
        "        return \"No matching tests found.\"\n",
        "    df = pd.DataFrame(results)\n",
        "    return df"
      ]
    },
    {
      "cell_type": "code",
      "execution_count": null,
      "metadata": {
        "id": "oTFj7upjikaB"
      },
      "outputs": [],
      "source": [
        "def get_recommendations(query):\n",
        "    try:\n",
        "        response = ask_question(query)\n",
        "        print(f\"Answer: {response['answer']}\\n\")\n",
        "        print(\"Recommended Tests:\")\n",
        "        return display_results(response[\"recommendations\"])\n",
        "    except Exception as e:\n",
        "        logging.error(f\"Error getting recommendations: {str(e)}\")\n",
        "        return f\"Error: {str(e)}\""
      ]
    },
    {
      "cell_type": "code",
      "execution_count": null,
      "metadata": {
        "colab": {
          "base_uri": "https://localhost:8080/"
        },
        "collapsed": true,
        "id": "VfIEqOzOihVr",
        "outputId": "3d1d82ff-a14b-4b1a-d0c7-126cb2570ffc"
      },
      "outputs": [],
      "source": [
        "if __name__ == \"__main__\":\n",
        "    query = input(\"Enter your job description or requirements: \")\n",
        "    recommendations = get_recommendations(query)\n",
        "    print(recommendations)"
      ]
    },
    {
      "cell_type": "code",
      "execution_count": 41,
      "metadata": {
        "id": "jgIR5KGldF4O"
      },
      "outputs": [],
      "source": [
        "QUERY = \"I need to hire a software engineer with strong leadership skills and experience in Agile development.\"\n",
        "JOB_DESCRIPTION = \"\"\"Software Engineer - Team Lead\n",
        "\n",
        "Our company is seeking a highly motivated and experienced Software Engineer to join our team as a Team Lead. The ideal candidate will possess a strong background in software development, excellent leadership abilities, and a proven track record of working effectively in Agile environments.\n",
        "\n",
        "Responsibilities:\n",
        "\n",
        "* Lead a team of 5-7 software engineers in the design, development, and implementation of high-quality software solutions.\n",
        "* Provide technical guidance and mentorship to team members.\n",
        "* Participate in Agile sprint planning, daily stand-ups, sprint reviews, and retrospectives.\n",
        "* Write clean, efficient, and well-documented code in Java and Python.\n",
        "* Collaborate with product managers, designers, and other stakeholders to define project requirements.\n",
        "* Ensure adherence to coding standards and best practices.\n",
        "\n",
        "Qualifications:\n",
        "\n",
        "* Bachelor's degree in Computer Science or a related field.\n",
        "* 5+ years of professional software development experience.\n",
        "* 2+ years of experience in a team lead or similar role.\n",
        "* Strong proficiency in Java and Python.\n",
        "* Experience with Agile development methodologies.\n",
        "* Excellent communication and interpersonal skills.\n",
        "* Ability to work independently and as part of a team.\n",
        "\n",
        "Preferred Qualifications:\n",
        "\n",
        "* Master's degree in Computer Science.\n",
        "* Experience with cloud computing platforms (e.g., AWS, Azure).\n",
        "* Contributions to open-source projects.\"\"\""
      ]
    },
    {
      "cell_type": "code",
      "execution_count": null,
      "metadata": {
        "colab": {
          "base_uri": "https://localhost:8080/"
        },
        "id": "hllSNIZOkxuY",
        "outputId": "9cfb58c4-a752-4b5e-d696-863df24eb4a3"
      },
      "outputs": [],
      "source": [
        "query = JOB_DESCRIPTION\n",
        "recommendations = get_recommendations(query)\n",
        "print(recommendations)"
      ]
    },
    {
      "cell_type": "code",
      "execution_count": null,
      "metadata": {
        "id": "L18e_Ln1bbiz"
      },
      "outputs": [],
      "source": [
        "vectorstore.save_local(\"/content/drive/MyDrive/__SHL__/vectorstore/shl_faiss\")"
      ]
    },
    {
      "cell_type": "code",
      "execution_count": null,
      "metadata": {
        "id": "q9kV4XcAQjtU"
      },
      "outputs": [],
      "source": []
    },
    {
      "cell_type": "code",
      "execution_count": null,
      "metadata": {
        "id": "lFp7z7E6Qj5R"
      },
      "outputs": [],
      "source": []
    },
    {
      "cell_type": "code",
      "execution_count": null,
      "metadata": {
        "id": "wt049YBMCJri"
      },
      "outputs": [],
      "source": []
    }
  ],
  "metadata": {
    "colab": {
      "provenance": []
    },
    "kernelspec": {
      "display_name": "venv",
      "language": "python",
      "name": "python3"
    },
    "language_info": {
      "codemirror_mode": {
        "name": "ipython",
        "version": 3
      },
      "file_extension": ".py",
      "mimetype": "text/x-python",
      "name": "python",
      "nbconvert_exporter": "python",
      "pygments_lexer": "ipython3",
      "version": "3.11.9"
    }
  },
  "nbformat": 4,
  "nbformat_minor": 0
}
