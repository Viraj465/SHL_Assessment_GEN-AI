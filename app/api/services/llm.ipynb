{
  "cells": [
    {
      "cell_type": "code",
      "execution_count": null,
      "metadata": {
        "id": "sEvKqTFh1uDt"
      },
      "outputs": [],
      "source": [
        "# %pip install -q langchain langchain-groq pydantic faiss-cpu typing langchain_community langchain-huggingface"
      ]
    },
    {
      "cell_type": "code",
      "execution_count": null,
      "metadata": {},
      "outputs": [],
      "source": [
        "%pip list"
      ]
    },
    {
      "cell_type": "code",
      "execution_count": 3,
      "metadata": {
        "id": "GeS5up3J34vr"
      },
      "outputs": [
        {
          "name": "stderr",
          "output_type": "stream",
          "text": [
            "c:\\Users\\Viraj Sawant\\Desktop\\SHLapp\\venv\\Lib\\site-packages\\tqdm\\auto.py:21: TqdmWarning: IProgress not found. Please update jupyter and ipywidgets. See https://ipywidgets.readthedocs.io/en/stable/user_install.html\n",
            "  from .autonotebook import tqdm as notebook_tqdm\n"
          ]
        }
      ],
      "source": [
        "import os\n",
        "import json\n",
        "import csv\n",
        "import logging\n",
        "import pandas as pd\n",
        "from typing import Dict, List, Optional\n",
        "from langchain_groq.chat_models import ChatGroq\n",
        "from langchain.chains import RetrievalQA, ConversationalRetrievalChain\n",
        "from langchain.memory import ConversationBufferMemory\n",
        "from sentence_transformers import SentenceTransformer\n",
        "from langchain.schema import Document\n",
        "from langchain.vectorstores import FAISS\n",
        "from langchain_huggingface import HuggingFaceEmbeddings\n",
        "from langchain_community.document_loaders import csv_loader\n",
        "from pydantic import BaseModel, Field"
      ]
    },
    {
      "cell_type": "code",
      "execution_count": 4,
      "metadata": {
        "id": "OCNRKntu3Mp5"
      },
      "outputs": [],
      "source": [
        "from dotenv import load_dotenv\n",
        "load_dotenv()\n",
        "GROQ_API_KEY= os.getenv(\"GROQ_API_KEY\")"
      ]
    },
    {
      "cell_type": "code",
      "execution_count": 9,
      "metadata": {
        "id": "TkKiVnjd-5w3"
      },
      "outputs": [],
      "source": [
        "path = r\"C:\\\\Users\\\\Viraj Sawant\\\\Desktop\\\\SHLapp\\\\app\\\\api\\\\data\\\\merged_data.csv\"\n",
        "data = pd.read_csv(path)"
      ]
    },
    {
      "cell_type": "markdown",
      "metadata": {
        "id": "Lv8cRmNTTv9K"
      },
      "source": [
        "## **LangChain Model with Message History**\n",
        "\n",
        "\n",
        "\n",
        "\n",
        "\n"
      ]
    },
    {
      "cell_type": "code",
      "execution_count": 10,
      "metadata": {
        "id": "I59LAD-fhS31"
      },
      "outputs": [],
      "source": [
        "\n",
        "def get_test_type(row):\n",
        "  test_types = []\n",
        "  cols = ['Ability&Aptitude',\n",
        "       'Biodata&SituationalJudgement', 'Competencies', 'Developemnt&360',\n",
        "       'AssessmentExercies', 'Knowledge&Skills', 'Personality&Behavior',\n",
        "       'Simulation']\n",
        "  for col in cols:\n",
        "    if row[col ] == 1:\n",
        "      test_types.append(col)\n",
        "  return \",\".join(test_types)\n",
        "\n",
        "def create_document(row):\n",
        "  metadata = {\n",
        "        \"name\": row[\"Assessment Name\"],\n",
        "        \"url\": row[\"Assessment URL\"],\n",
        "        \"remote_support\": row[\"Remote Testing Support\"],\n",
        "        \"adaptive_support\": row[\"Adaptive/IRT Support\"],\n",
        "        \"duration\": row[\"Duration\"],\n",
        "        \"test_type\": get_test_type(row)\n",
        "    }\n",
        "\n",
        "  return Document(page_content = row['Description'], metadata=metadata)\n",
        "\n",
        "docs = [create_document(row) for _, row in data.iterrows()]"
      ]
    },
    {
      "cell_type": "code",
      "execution_count": 11,
      "metadata": {
        "id": "cWnVfNTQXUtR"
      },
      "outputs": [],
      "source": [
        "model_kwargs = {'device': 'cpu'}\n",
        "encode_kwargs = {'normalize_embeddings': True}"
      ]
    },
    {
      "cell_type": "code",
      "execution_count": 11,
      "metadata": {},
      "outputs": [],
      "source": [
        "embeddings = HuggingFaceEmbeddings(\n",
        "        model_name=\"sentence-transformers/all-MiniLM-L6-v2\",\n",
        "        model_kwargs={'device': 'cpu'} \n",
        "    )"
      ]
    },
    {
      "cell_type": "code",
      "execution_count": 15,
      "metadata": {},
      "outputs": [],
      "source": [
        "vectorstore = FAISS.load_local(\n",
        "        \"C:\\\\Users\\\\Viraj Sawant\\\\Desktop\\\\SHLapp\\\\app\\\\api\\\\data\\\\vectorstorenew\\\\shl_faiss_embeddings\", \n",
        "        embeddings,\n",
        "        allow_dangerous_deserialization=True\n",
        "    )"
      ]
    },
    {
      "cell_type": "code",
      "execution_count": 16,
      "metadata": {
        "colab": {
          "base_uri": "https://localhost:8080/"
        },
        "collapsed": true,
        "id": "S5j6CPO_bb09",
        "outputId": "ee49e193-3049-46c9-aa08-a4b94d4fdb48"
      },
      "outputs": [],
      "source": [
        "# embedding_model = HuggingFaceEmbeddings(model_name = \"all-MiniLM-L6-v2\",\n",
        "#                                         model_kwargs=model_kwargs,\n",
        "#                                         encode_kwargs=encode_kwargs)\n",
        "# vectorstore = FAISS.from_documents(docs, embedding_model)"
      ]
    },
    {
      "cell_type": "code",
      "execution_count": 17,
      "metadata": {
        "id": "GyOZzNKGXydm"
      },
      "outputs": [],
      "source": [
        "# vectorstore.save_local(\"/content/drive/MyDrive/__SHL__/vectorstorenew/shl_faiss_embeddings\")"
      ]
    },
    {
      "cell_type": "code",
      "execution_count": 25,
      "metadata": {
        "colab": {
          "base_uri": "https://localhost:8080/"
        },
        "id": "7g1wZmSbbbyc",
        "outputId": "d32a98a6-3e0e-4be1-b3ab-107150f392c5"
      },
      "outputs": [
        {
          "data": {
            "text/plain": [
              "ChatGroq(client=<groq.resources.chat.completions.Completions object at 0x000002E421955650>, async_client=<groq.resources.chat.completions.AsyncCompletions object at 0x000002E421957790>, model_name='llama-3.3-70b-versatile', temperature=0.3, model_kwargs={}, groq_api_key=SecretStr('**********'))"
            ]
          },
          "execution_count": 25,
          "metadata": {},
          "output_type": "execute_result"
        }
      ],
      "source": [
        "llm = ChatGroq(model=\"llama-3.3-70b-versatile\",\n",
        "               temperature = 0.3,\n",
        "               api_key = GROQ_API_KEY)\n",
        "\n",
        "llm"
      ]
    },
    {
      "cell_type": "code",
      "execution_count": 26,
      "metadata": {
        "id": "-w09m40-bbv7"
      },
      "outputs": [],
      "source": [
        "QA_chain = RetrievalQA.from_llm(\n",
        "    llm = llm,\n",
        "    retriever=vectorstore.as_retriever(search_kwargs={\"k\": 10}),\n",
        "    return_source_documents=True,\n",
        "    verbose = True\n",
        ")"
      ]
    },
    {
      "cell_type": "code",
      "execution_count": 27,
      "metadata": {
        "id": "tD2DqC_cvtAy"
      },
      "outputs": [],
      "source": [
        "def format_response(response_docs):\n",
        "    \"\"\"Format the documents into a structured output.\"\"\"\n",
        "    results = []\n",
        "    for doc in response_docs:\n",
        "        meta = doc.metadata\n",
        "        results.append({\n",
        "            \"Assessment Name\": meta.get(\"name\", \"N/A\"),\n",
        "            \"URL\": meta.get(\"url\", \"N/A\"),\n",
        "            \"Remote Support\": meta.get(\"remote_support\", \"N/A\"),\n",
        "            \"Adaptive Support\": meta.get(\"adaptive_support\", \"N/A\"),\n",
        "            \"Duration\": meta.get(\"duration\", \"N/A\"),\n",
        "            \"Test Type\": meta.get(\"test_type\", \"N/A\")\n",
        "        })\n",
        "    return results\n",
        "\n",
        "def display_results(results):\n",
        "    if not results:\n",
        "        return \"No matching tests found.\"\n",
        "    df = pd.DataFrame(results)\n",
        "    # For terminal or Jupyter\n",
        "    print(df.to_markdown(index=False))\n",
        "    return df\n",
        "\n",
        "def ask_question(query: str):\n",
        "    system_prompt = (\n",
        "        \"You are an assistant helping hiring managers choose the best SHL assessments. \"\n",
        "        \"Based on the query, recommend the most relevant tests.\"\n",
        "    )\n",
        "    try:\n",
        "        response = QA_chain.invoke({\n",
        "            \"query\": system_prompt + \"\\n\" + query  })\n",
        "\n",
        "        docs = response.get(\"source_documents\", [])\n",
        "        formatted_results = format_response(docs)\n",
        "        formatted_results = formatted_results[:10]\n",
        "\n",
        "        return {\n",
        "            \"answer\": response[\"result\"],\n",
        "            \"recommendations\": formatted_results\n",
        "        }\n",
        "    except Exception as e:\n",
        "        logging.error(f\"Error in ask_question: {str(e)}\", exc_info=True)\n",
        "        return {\n",
        "            # \"answer\": f\"Error: {str(e)}\",\n",
        "            \"recommendations\": []\n",
        "        }\n",
        "\n",
        "def get_recommendations(query):\n",
        "    \"\"\"Main entry function to get structured recommendations.\"\"\"\n",
        "    try:\n",
        "        response = ask_question(query)\n",
        "        print(\"\\nAnswer from LLM:\")\n",
        "        # print(response[\"answer\"])\n",
        "        # print(\"\\n Recommended Assessments Table:\")\n",
        "        return display_results(response[\"recommendations\"])\n",
        "    except Exception as e:\n",
        "        logging.error(f\"Error in get_recommendations: {str(e)}\", exc_info=True)\n",
        "        return f\"Error: {str(e)}\"\n"
      ]
    },
    {
      "cell_type": "code",
      "execution_count": 28,
      "metadata": {
        "id": "oTFj7upjikaB"
      },
      "outputs": [],
      "source": [
        "QUERY = \"I am hiring for Java developers who can also collaborate effectively with my business teams. Looking \\\n",
        "for an assessment(s) that can be completed in 40 minutes.\""
      ]
    },
    {
      "cell_type": "code",
      "execution_count": 29,
      "metadata": {
        "colab": {
          "base_uri": "https://localhost:8080/"
        },
        "id": "wmT9WVltif0y",
        "outputId": "35e6c6f2-19d7-4123-8d62-f1a977d60f05"
      },
      "outputs": [
        {
          "name": "stdout",
          "output_type": "stream",
          "text": [
            "\n",
            "\n",
            "\u001b[1m> Entering new RetrievalQA chain...\u001b[0m\n",
            "\n",
            "\u001b[1m> Finished chain.\u001b[0m\n",
            "\n",
            "Answer from LLM:\n",
            "| Assessment Name                             | URL                                                                                                      | Remote Support   | Adaptive Support   |   Duration | Test Type                                                          |\n",
            "|:--------------------------------------------|:---------------------------------------------------------------------------------------------------------|:-----------------|:-------------------|-----------:|:-------------------------------------------------------------------|\n",
            "| Verify Interactive Process Monitoring       | https://www.shl.com/solutions/products/product-catalog/view/verify-interactive-process-monitoring/       | Yes              | No                 |          0 | Ability&Aptitude                                                   |\n",
            "| Assessment and Development Center Exercises | https://www.shl.com/solutions/products/product-catalog/view/assessment-and-development-center-exercises/ | Yes              | No                 |          0 | AssessmentExercies                                                 |\n",
            "| Virtual Assessment and Development Centers  | https://www.shl.com/solutions/products/product-catalog/view/virtual-assessment-and-development-centers/  | Yes              | No                 |          0 | Personality&Behavior                                               |\n",
            "| Verify - Deductive Reasoning                | https://www.shl.com/solutions/products/product-catalog/view/verify-deductive-reasoning/                  | Yes              | Yes                |         18 | Ability&Aptitude                                                   |\n",
            "| SHL Verify Interactive G+                   | https://www.shl.com/solutions/products/product-catalog/view/shl-verify-interactive-g/                    | Yes              | Yes                |         36 | Ability&Aptitude                                                   |\n",
            "| Verify G+ - Ability Test Report             | https://www.shl.com/solutions/products/product-catalog/view/verify-g-ability-test-report/                | Yes              | No                 |          0 | Ability&Aptitude                                                   |\n",
            "| Graduate 8.0 Job Focused Assessment         | https://www.shl.com/solutions/products/product-catalog/view/graduate-8-0-job-focused-assessment-4228/    | Yes              | No                 |         20 | Biodata&SituationalJudgement,Personality&Behavior                  |\n",
            "| 360° Multi-Rater Feedback System (MFS)      | https://www.shl.com/solutions/products/product-catalog/view/360-multi-rater-feedback-system-mfs/         | Yes              | No                 |        360 | Developemnt&360,Personality&Behavior                               |\n",
            "| Graduate + 8.0 Job Focused Assessment       | https://www.shl.com/solutions/products/product-catalog/view/graduate-8-0-job-focused-assessment/         | Yes              | No                 |         30 | Ability&Aptitude,Biodata&SituationalJudgement,Personality&Behavior |\n",
            "| Smart Interview Live                        | https://www.shl.com/solutions/products/product-catalog/view/smart-interview-live/                        | Yes              | No                 |          2 | Personality&Behavior                                               |\n"
          ]
        }
      ],
      "source": [
        "if __name__ == \"__main__\":\n",
        "    query = QUERY\n",
        "    recommendations = get_recommendations(query)\n"
      ]
    },
    {
      "cell_type": "code",
      "execution_count": null,
      "metadata": {},
      "outputs": [],
      "source": []
    },
    {
      "cell_type": "code",
      "execution_count": null,
      "metadata": {},
      "outputs": [],
      "source": [
        "JOB_DESCRIPTION = \"\"\"Role Overview:\n",
        "\n",
        "We are seeking a highly skilled and motivated Software Development Engineer III (Full Stack) to join our growing team. As an SDE-3, you will play a pivotal role in designing, developing, and deploying robust, scalable, and high-performance full-stack applications. You will leverage your expertise in both front-end and back-end technologies to deliver exceptional user experiences and contribute to the architectural vision of our products.\n",
        "\n",
        "Responsibilities:\n",
        "\n",
        "Full Stack Development:\n",
        "Design, develop, and maintain complex full-stack applications using modern technologies and frameworks.\n",
        "Write clean, maintainable, and efficient code adhering to best practices and coding standards.\n",
        "Develop and integrate RESTful APIs and microservices.\n",
        "Implement responsive and intuitive user interfaces.\n",
        "Architectural Contributions:\n",
        "Participate in architectural discussions and contribute to the design and implementation of scalable and resilient systems.\n",
        "Evaluate and recommend new technologies and tools to improve development efficiency and application performance.\n",
        "Ensure adherence to architectural principles and design patterns.\n",
        "Technical Leadership:\n",
        "Mentor and guide junior developers, providing technical expertise and support.\n",
        "Conduct code reviews and ensure code quality.\n",
        "Drive technical initiatives and contribute to process improvements.\n",
        "Lead small to medium-sized projects and features.\n",
        "Collaboration and Communication:\n",
        "Collaborate effectively with cross-functional teams, including product managers, designers, and QA engineers.\n",
        "Communicate technical concepts clearly and concisely to both technical and non-technical stakeholders.\n",
        "Participate in agile development processes, including sprint planning, daily stand-ups, and retrospectives.\n",
        "Problem Solving and Debugging:\n",
        "Troubleshoot and resolve complex technical issues.\n",
        "Optimize application performance and ensure system stability.\n",
        "Conduct thorough testing and debugging to ensure high-quality deliverables.\n",
        "Required Skills and Qualifications:\n",
        "\n",
        "Bachelor's or Master's degree in Computer Science, Software Engineering, or a related field.\n",
        "Minimum [Number] years of professional experience in full-stack development.\n",
        "Strong proficiency in back-end technologies:\n",
        "[Specify your back-end technologies, e.g., Node.js, Python (Django/Flask), Java (Spring Boot), .NET Core].\n",
        "Experience with database systems (e.g., PostgreSQL, SQL, MongoDB).\n",
        "Strong proficiency in front-end technologies:\n",
        "[Specify your front-end technologies, e.g., React, Angular, Vue.js, HTML5, CSS3, JavaScript/TypeScript].\n",
        "Experience with state management libraries (e.g., Redux, Vuex).\n",
        "Experience with cloud platforms (e.g., AWS, Azure, GCP).\n",
        "Experience with version control systems (Git).\n",
        "Strong understanding of software development principles, design patterns, and best practices.\n",
        "Excellent problem-solving, debugging, and analytical skills.\n",
        "Strong communication and collaboration skills.\n",
        "Preferred Skills and Qualifications:\n",
        "\n",
        "Experience with containerization and orchestration technologies (Docker, Kubernetes).\n",
        "Experience with CI/CD pipelines (Jenkins, GitLab CI, CircleCI).\n",
        "Knowledge of microservices architecture and distributed systems.\n",
        "Experience with testing frameworks (e.g., Jest, Mocha, JUnit).\n",
        "Experience with performance optimization and scalability.\n",
        "Experience with serverless architecture.\n",
        "Benefits:\n",
        "\n",
        "Competitive salary and comprehensive benefits package.\n",
        "Opportunities for professional growth and development.\n",
        "Collaborative and innovative work environment.\n",
        "Work-life balance and flexible work arrangements.\n",
        "Access to cutting-edge technologies and tools.\n",
        "Work for a globally recognized company.\n",
        "To Apply:.\"\"\""
      ]
    }
  ],
  "metadata": {
    "accelerator": "GPU",
    "colab": {
      "gpuType": "T4",
      "provenance": []
    },
    "kernelspec": {
      "display_name": "base",
      "language": "python",
      "name": "python3"
    },
    "language_info": {
      "codemirror_mode": {
        "name": "ipython",
        "version": 3
      },
      "file_extension": ".py",
      "mimetype": "text/x-python",
      "name": "python",
      "nbconvert_exporter": "python",
      "pygments_lexer": "ipython3",
      "version": "3.12.7"
    }
  },
  "nbformat": 4,
  "nbformat_minor": 0
}
