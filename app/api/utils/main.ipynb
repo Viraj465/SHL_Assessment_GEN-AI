{
 "cells": [
  {
   "cell_type": "code",
   "execution_count": 3,
   "id": "4bfa1aa7",
   "metadata": {},
   "outputs": [],
   "source": [
    "import os\n",
    "import numpy as np\n",
    "import pandas as pd\n",
    "import requests\n",
    "from bs4 import BeautifulSoup"
   ]
  },
  {
   "cell_type": "code",
   "execution_count": 4,
   "id": "9f269dc8",
   "metadata": {},
   "outputs": [
    {
     "data": {
      "text/plain": [
       "Index(['Assessment Name', 'Assessment URL', 'Remote Testing Support',\n",
       "       'Adaptive/IRT Support', 'Test Type', 'Duration'],\n",
       "      dtype='object')"
      ]
     },
     "execution_count": 4,
     "metadata": {},
     "output_type": "execute_result"
    }
   ],
   "source": [
    "data = pd.read_csv(\"shl_catalog_listing.csv\")\n",
    "data.columns"
   ]
  },
  {
   "cell_type": "code",
   "execution_count": 7,
   "id": "04655170",
   "metadata": {},
   "outputs": [
    {
     "data": {
      "text/plain": [
       "0                      https://www.shl.com/solutions/products/product-catalog/view/account-manager-solution/\n",
       "1        https://www.shl.com/solutions/products/product-catalog/view/administrative-professional-short-form/\n",
       "2                       https://www.shl.com/solutions/products/product-catalog/view/agency-manager-solution/\n",
       "3    https://www.shl.com/solutions/products/product-catalog/view/apprentice-8-0-job-focused-assessment-4261/\n",
       "4         https://www.shl.com/solutions/products/product-catalog/view/apprentice-8-0-job-focused-assessment/\n",
       "Name: Assessment URL, dtype: object"
      ]
     },
     "metadata": {},
     "output_type": "display_data"
    }
   ],
   "source": [
    "with pd.option_context('display.max_colwidth', None):\n",
    "    display(data['Assessment URL'].head())"
   ]
  },
  {
   "cell_type": "code",
   "execution_count": null,
   "id": "fa86de31",
   "metadata": {},
   "outputs": [
    {
     "name": "stdout",
     "output_type": "stream",
     "text": [
      "49\n"
     ]
    }
   ],
   "source": [
    "import re\n",
    "headers = {\n",
    "        \"User-Agent\": \"Mozilla/5.0 (Windows NT 10.0; Win64; x64) AppleWebKit/537.36 (KHTML, like Gecko) Chrome/91.0.4472.124 Safari/537.36\"\n",
    "    }\n",
    "\n",
    "def fetch_duration(url):\n",
    "    response = requests.get(url, headers=headers)\n",
    "    response.raise_for_status()\n",
    "    soup = BeautifulSoup(response.text, 'html.parser')\n",
    "    \n",
    "    duration = soup.find_all(\"div\", class_=\"product-catalogue-training-calendar__row typ\")\n",
    "    duration = duration[3].text.strip()\n",
    "    if \"Approximate Completion Time in minutes = \" in duration:\n",
    "        duration = duration.split(\"Approximate Completion Time in minutes = \")[1].strip()\n",
    "        regex = re.search(r'\\d+', duration)\n",
    "    return regex.group()\n",
    "url = 'https://www.shl.com/solutions/products/product-catalog/view/account-manager-solution/'\n",
    "print(fetch_duration(url))"
   ]
  },
  {
   "cell_type": "code",
   "execution_count": 58,
   "id": "b917fb92",
   "metadata": {},
   "outputs": [],
   "source": [
    "data['Duration'] = data['Assessment URL'].apply(fetch_duration)\n",
    "data['Duration'] = data['Duration'].astype(int)"
   ]
  },
  {
   "cell_type": "code",
   "execution_count": 59,
   "id": "7b6d955e",
   "metadata": {},
   "outputs": [
    {
     "data": {
      "text/html": [
       "<div>\n",
       "<style scoped>\n",
       "    .dataframe tbody tr th:only-of-type {\n",
       "        vertical-align: middle;\n",
       "    }\n",
       "\n",
       "    .dataframe tbody tr th {\n",
       "        vertical-align: top;\n",
       "    }\n",
       "\n",
       "    .dataframe thead th {\n",
       "        text-align: right;\n",
       "    }\n",
       "</style>\n",
       "<table border=\"1\" class=\"dataframe\">\n",
       "  <thead>\n",
       "    <tr style=\"text-align: right;\">\n",
       "      <th></th>\n",
       "      <th>Assessment Name</th>\n",
       "      <th>Assessment URL</th>\n",
       "      <th>Remote Testing Support</th>\n",
       "      <th>Adaptive/IRT Support</th>\n",
       "      <th>Test Type</th>\n",
       "      <th>Duration</th>\n",
       "    </tr>\n",
       "  </thead>\n",
       "  <tbody>\n",
       "    <tr>\n",
       "      <th>0</th>\n",
       "      <td>Account Manager Solution</td>\n",
       "      <td>https://www.shl.com/solutions/products/product...</td>\n",
       "      <td>Yes</td>\n",
       "      <td>Yes</td>\n",
       "      <td>C, P, A, B</td>\n",
       "      <td>49</td>\n",
       "    </tr>\n",
       "    <tr>\n",
       "      <th>1</th>\n",
       "      <td>Administrative Professional - Short Form</td>\n",
       "      <td>https://www.shl.com/solutions/products/product...</td>\n",
       "      <td>Yes</td>\n",
       "      <td>Yes</td>\n",
       "      <td>A, K, P</td>\n",
       "      <td>36</td>\n",
       "    </tr>\n",
       "    <tr>\n",
       "      <th>2</th>\n",
       "      <td>Agency Manager Solution</td>\n",
       "      <td>https://www.shl.com/solutions/products/product...</td>\n",
       "      <td>Yes</td>\n",
       "      <td>Yes</td>\n",
       "      <td>A, B, P, S</td>\n",
       "      <td>51</td>\n",
       "    </tr>\n",
       "    <tr>\n",
       "      <th>3</th>\n",
       "      <td>Apprentice + 8.0 Job Focused Assessment</td>\n",
       "      <td>https://www.shl.com/solutions/products/product...</td>\n",
       "      <td>Yes</td>\n",
       "      <td>NaN</td>\n",
       "      <td>B, P</td>\n",
       "      <td>30</td>\n",
       "    </tr>\n",
       "    <tr>\n",
       "      <th>4</th>\n",
       "      <td>Apprentice 8.0 Job Focused Assessment</td>\n",
       "      <td>https://www.shl.com/solutions/products/product...</td>\n",
       "      <td>Yes</td>\n",
       "      <td>NaN</td>\n",
       "      <td>B, P</td>\n",
       "      <td>20</td>\n",
       "    </tr>\n",
       "  </tbody>\n",
       "</table>\n",
       "</div>"
      ],
      "text/plain": [
       "                            Assessment Name  \\\n",
       "0                  Account Manager Solution   \n",
       "1  Administrative Professional - Short Form   \n",
       "2                   Agency Manager Solution   \n",
       "3   Apprentice + 8.0 Job Focused Assessment   \n",
       "4     Apprentice 8.0 Job Focused Assessment   \n",
       "\n",
       "                                      Assessment URL Remote Testing Support  \\\n",
       "0  https://www.shl.com/solutions/products/product...                    Yes   \n",
       "1  https://www.shl.com/solutions/products/product...                    Yes   \n",
       "2  https://www.shl.com/solutions/products/product...                    Yes   \n",
       "3  https://www.shl.com/solutions/products/product...                    Yes   \n",
       "4  https://www.shl.com/solutions/products/product...                    Yes   \n",
       "\n",
       "  Adaptive/IRT Support   Test Type  Duration  \n",
       "0                  Yes  C, P, A, B        49  \n",
       "1                  Yes     A, K, P        36  \n",
       "2                  Yes  A, B, P, S        51  \n",
       "3                  NaN        B, P        30  \n",
       "4                  NaN        B, P        20  "
      ]
     },
     "execution_count": 59,
     "metadata": {},
     "output_type": "execute_result"
    }
   ],
   "source": [
    "data.head()"
   ]
  },
  {
   "cell_type": "code",
   "execution_count": 60,
   "id": "64985a80",
   "metadata": {},
   "outputs": [],
   "source": [
    "data.to_csv(\"shl_catalog_listing.csv\", index=False)"
   ]
  },
  {
   "cell_type": "code",
   "execution_count": null,
   "id": "db00be75",
   "metadata": {},
   "outputs": [],
   "source": []
  }
 ],
 "metadata": {
  "kernelspec": {
   "display_name": "base",
   "language": "python",
   "name": "python3"
  },
  "language_info": {
   "codemirror_mode": {
    "name": "ipython",
    "version": 3
   },
   "file_extension": ".py",
   "mimetype": "text/x-python",
   "name": "python",
   "nbconvert_exporter": "python",
   "pygments_lexer": "ipython3",
   "version": "3.12.7"
  }
 },
 "nbformat": 4,
 "nbformat_minor": 5
}
