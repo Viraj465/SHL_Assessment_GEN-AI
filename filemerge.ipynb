{
 "cells": [
  {
   "cell_type": "code",
   "execution_count": 1,
   "id": "366c7ea5",
   "metadata": {},
   "outputs": [],
   "source": [
    "import os\n",
    "import pandas as pd\n",
    "\n",
    "data1 = pd.read_csv(\"app/api/data/csvlisting2.csv\")\n",
    "data2 = pd.read_csv(\"app/api/data/shl_catalog_edited.csv\")"
   ]
  },
  {
   "cell_type": "code",
   "execution_count": 2,
   "id": "aaa0240c",
   "metadata": {},
   "outputs": [
    {
     "name": "stdout",
     "output_type": "stream",
     "text": [
      "Index(['Unnamed: 0', 'Assessment Name', 'Assessment URL',\n",
      "       'Remote Testing Support', 'Adaptive/IRT Support', 'Duration',\n",
      "       'Description', 'Ability&Aptitude', 'Biodata&SituationalJudgement',\n",
      "       'Competencies', 'Developemnt&360', 'AssessmentExercies',\n",
      "       'Knowledge&Skills', 'Personality&Behavior', 'Simulation'],\n",
      "      dtype='object') 15\n",
      "Index(['Unnamed: 0', 'Assessment Name', 'Assessment URL',\n",
      "       'Remote Testing Support', 'Adaptive/IRT Support', 'Duration',\n",
      "       'Ability&Aptitude', 'Biodata&SituationalJudgement', 'Competencies',\n",
      "       'Developemnt&360', 'AssessmentExercies', 'Knowledge&Skills',\n",
      "       'Personality&Behavior', 'Simulation', 'Description'],\n",
      "      dtype='object') 15\n"
     ]
    }
   ],
   "source": [
    "print(data1.columns, len(data1.columns))\n",
    "print(data2.columns, len(data2.columns))"
   ]
  },
  {
   "cell_type": "code",
   "execution_count": 15,
   "id": "e8dc0d00",
   "metadata": {
    "vscode": {
     "languageId": "javascript"
    }
   },
   "outputs": [],
   "source": [
    "merged_df = pd.merge(data1, data2, \n",
    "    on=['Assessment Name', 'Assessment URL',\n",
    "        'Remote Testing Support', 'Adaptive/IRT Support', 'Duration',\n",
    "        'Ability&Aptitude', 'Biodata&SituationalJudgement', 'Competencies',\n",
    "        'Developemnt&360', 'AssessmentExercies', 'Knowledge&Skills',\n",
    "        'Personality&Behavior', 'Simulation', 'Description'],\n",
    "    how='outer')"
   ]
  },
  {
   "cell_type": "code",
   "execution_count": 16,
   "id": "54399e4f",
   "metadata": {},
   "outputs": [],
   "source": [
    "merged_df.drop([\"Unnamed: 0_x\",\"Unnamed: 0_y\"], axis = 1, inplace=True)"
   ]
  },
  {
   "cell_type": "code",
   "execution_count": 18,
   "id": "caffb920",
   "metadata": {},
   "outputs": [
    {
     "data": {
      "text/plain": [
       "Index(['Assessment Name', 'Assessment URL', 'Remote Testing Support',\n",
       "       'Adaptive/IRT Support', 'Duration', 'Description', 'Ability&Aptitude',\n",
       "       'Biodata&SituationalJudgement', 'Competencies', 'Developemnt&360',\n",
       "       'AssessmentExercies', 'Knowledge&Skills', 'Personality&Behavior',\n",
       "       'Simulation'],\n",
       "      dtype='object')"
      ]
     },
     "execution_count": 18,
     "metadata": {},
     "output_type": "execute_result"
    }
   ],
   "source": [
    "merged_df.columns"
   ]
  },
  {
   "cell_type": "code",
   "execution_count": 20,
   "id": "79a772bb",
   "metadata": {},
   "outputs": [
    {
     "data": {
      "text/plain": [
       "Assessment Name                   0\n",
       "Assessment URL                    0\n",
       "Remote Testing Support            0\n",
       "Adaptive/IRT Support            340\n",
       "Duration                        304\n",
       "Description                       0\n",
       "Ability&Aptitude                  0\n",
       "Biodata&SituationalJudgement      0\n",
       "Competencies                      0\n",
       "Developemnt&360                   0\n",
       "AssessmentExercies                0\n",
       "Knowledge&Skills                  0\n",
       "Personality&Behavior              0\n",
       "Simulation                        0\n",
       "dtype: int64"
      ]
     },
     "execution_count": 20,
     "metadata": {},
     "output_type": "execute_result"
    }
   ],
   "source": [
    "merged_df.isnull().sum()"
   ]
  },
  {
   "cell_type": "code",
   "execution_count": 21,
   "id": "7162bb68",
   "metadata": {},
   "outputs": [
    {
     "name": "stderr",
     "output_type": "stream",
     "text": [
      "C:\\Users\\Viraj Sawant\\AppData\\Local\\Temp\\ipykernel_10100\\1625149442.py:1: FutureWarning: A value is trying to be set on a copy of a DataFrame or Series through chained assignment using an inplace method.\n",
      "The behavior will change in pandas 3.0. This inplace method will never work because the intermediate object on which we are setting values always behaves as a copy.\n",
      "\n",
      "For example, when doing 'df[col].method(value, inplace=True)', try using 'df.method({col: value}, inplace=True)' or df[col] = df[col].method(value) instead, to perform the operation inplace on the original object.\n",
      "\n",
      "\n",
      "  merged_df['Adaptive/IRT Support'].fillna(\"No\", inplace=True)\n"
     ]
    }
   ],
   "source": [
    "\n",
    "merged_df['Adaptive/IRT Support'].fillna(\"No\", inplace=True)"
   ]
  },
  {
   "cell_type": "code",
   "execution_count": 24,
   "id": "0616cda6",
   "metadata": {},
   "outputs": [
    {
     "name": "stderr",
     "output_type": "stream",
     "text": [
      "C:\\Users\\Viraj Sawant\\AppData\\Local\\Temp\\ipykernel_10100\\3339667494.py:1: FutureWarning: A value is trying to be set on a copy of a DataFrame or Series through chained assignment using an inplace method.\n",
      "The behavior will change in pandas 3.0. This inplace method will never work because the intermediate object on which we are setting values always behaves as a copy.\n",
      "\n",
      "For example, when doing 'df[col].method(value, inplace=True)', try using 'df.method({col: value}, inplace=True)' or df[col] = df[col].method(value) instead, to perform the operation inplace on the original object.\n",
      "\n",
      "\n",
      "  merged_df['Duration'].fillna(0, inplace=True)\n"
     ]
    }
   ],
   "source": [
    "merged_df['Duration'].fillna(0, inplace=True)"
   ]
  },
  {
   "cell_type": "code",
   "execution_count": 26,
   "id": "c6896f03",
   "metadata": {},
   "outputs": [],
   "source": [
    "merged_df.to_csv(\"app/api/data/merged_data.csv\", index=False)"
   ]
  },
  {
   "cell_type": "code",
   "execution_count": null,
   "id": "866b72f9",
   "metadata": {},
   "outputs": [],
   "source": []
  }
 ],
 "metadata": {
  "kernelspec": {
   "display_name": "base",
   "language": "python",
   "name": "python3"
  },
  "language_info": {
   "codemirror_mode": {
    "name": "ipython",
    "version": 3
   },
   "file_extension": ".py",
   "mimetype": "text/x-python",
   "name": "python",
   "nbconvert_exporter": "python",
   "pygments_lexer": "ipython3",
   "version": "3.12.7"
  }
 },
 "nbformat": 4,
 "nbformat_minor": 5
}
